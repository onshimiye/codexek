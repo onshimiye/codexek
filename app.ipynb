{
 "cells": [
  {
   "cell_type": "code",
   "execution_count": 11,
   "metadata": {},
   "outputs": [],
   "source": [
    "import pandas as pd\n",
    "import numpy as np\n",
    "import matplotlib.pyplot as plt\n",
    "import streamlit as st\n",
    "\n",
    "#deafault prediction models\n",
    "from sklearn.linear_model import LinearRegression\n",
    "from sklearn.linear_model import LogisticRegression"
   ]
  },
  {
   "cell_type": "code",
   "execution_count": 12,
   "metadata": {},
   "outputs": [],
   "source": [
    "def load_dataset(name):\n",
    "    try:\n",
    "        dataset = pd.read_csv('datasets/{}'.format(name))\n",
    "        return dataset\n",
    "    except Exception as err:\n",
    "        print(type(err))    \n",
    "        print(err.args)     \n",
    "        print(inst)\n",
    "        print(\"An exception occurred\")\n",
    "        return None"
   ]
  },
  {
   "cell_type": "code",
   "execution_count": 36,
   "metadata": {},
   "outputs": [],
   "source": [
    "dataset = load_dataset('iris.csv')"
   ]
  },
  {
   "cell_type": "code",
   "execution_count": 14,
   "metadata": {},
   "outputs": [],
   "source": [
    "def dataset_head(dataset):\n",
    "    print('This shows the top 5 fields of a dataset')\n",
    "    return dataset.head()"
   ]
  },
  {
   "cell_type": "code",
   "execution_count": 15,
   "metadata": {},
   "outputs": [],
   "source": [
    "def dataset_tail(dataset):\n",
    "    print('This shows the bottom 5 fields of a dataset')\n",
    "    return dataset.tail()"
   ]
  },
  {
   "cell_type": "code",
   "execution_count": 25,
   "metadata": {},
   "outputs": [],
   "source": [
    "def dataset_shape(dataset):\n",
    "    print('This shows the dimensions of a dataset')\n",
    "    return dataset.shape"
   ]
  },
  {
   "cell_type": "code",
   "execution_count": 34,
   "metadata": {},
   "outputs": [],
   "source": [
    "def dataset_info(dataset):\n",
    "    print('This shows the datatypes and count of empty fields for each column of a dataset')\n",
    "    return dataset.info()"
   ]
  },
  {
   "cell_type": "code",
   "execution_count": 18,
   "metadata": {},
   "outputs": [],
   "source": [
    "def dataset_stats(dataset):\n",
    "    print('This shows the basic statistics of numerical columns/feature of a dataset')\n",
    "    return dataset.describe()"
   ]
  },
  {
   "cell_type": "code",
   "execution_count": 30,
   "metadata": {},
   "outputs": [],
   "source": [
    "def understand_dataset(dataset):\n",
    "    print(dataset_head(dataset))\n",
    "    print(dataset_tail(dataset))\n",
    "    print(dataset_shape(dataset))\n",
    "    print(dataset_info(dataset))\n",
    "    print(dataset_stats(dataset))\n",
    "    "
   ]
  },
  {
   "cell_type": "code",
   "execution_count": 37,
   "metadata": {},
   "outputs": [
    {
     "name": "stdout",
     "output_type": "stream",
     "text": [
      "This shows the top 5 fields of a dataset\n",
      "   150    4  setosa  versicolor  virginica\n",
      "0  5.1  3.5     1.4         0.2          0\n",
      "1  4.9  3.0     1.4         0.2          0\n",
      "2  4.7  3.2     1.3         0.2          0\n",
      "3  4.6  3.1     1.5         0.2          0\n",
      "4  5.0  3.6     1.4         0.2          0\n",
      "This shows the bottom 5 fields of a dataset\n",
      "     150    4  setosa  versicolor  virginica\n",
      "145  6.7  3.0     5.2         2.3          2\n",
      "146  6.3  2.5     5.0         1.9          2\n",
      "147  6.5  3.0     5.2         2.0          2\n",
      "148  6.2  3.4     5.4         2.3          2\n",
      "149  5.9  3.0     5.1         1.8          2\n",
      "This shows the dimensions of a dataset\n",
      "(150, 5)\n",
      "This shows the datatypes and count of empty fields for each column of a dataset\n",
      "<class 'pandas.core.frame.DataFrame'>\n",
      "RangeIndex: 150 entries, 0 to 149\n",
      "Data columns (total 5 columns):\n",
      " #   Column      Non-Null Count  Dtype  \n",
      "---  ------      --------------  -----  \n",
      " 0   150         150 non-null    float64\n",
      " 1   4           150 non-null    float64\n",
      " 2   setosa      150 non-null    float64\n",
      " 3   versicolor  150 non-null    float64\n",
      " 4   virginica   150 non-null    int64  \n",
      "dtypes: float64(4), int64(1)\n",
      "memory usage: 6.0 KB\n",
      "None\n",
      "This shows the basic statistics of numerical columns/feature of a dataset\n",
      "              150           4      setosa  versicolor   virginica\n",
      "count  150.000000  150.000000  150.000000  150.000000  150.000000\n",
      "mean     5.843333    3.057333    3.758000    1.199333    1.000000\n",
      "std      0.828066    0.435866    1.765298    0.762238    0.819232\n",
      "min      4.300000    2.000000    1.000000    0.100000    0.000000\n",
      "25%      5.100000    2.800000    1.600000    0.300000    0.000000\n",
      "50%      5.800000    3.000000    4.350000    1.300000    1.000000\n",
      "75%      6.400000    3.300000    5.100000    1.800000    2.000000\n",
      "max      7.900000    4.400000    6.900000    2.500000    2.000000\n"
     ]
    }
   ],
   "source": [
    "understand_dataset(dataset)"
   ]
  },
  {
   "cell_type": "code",
   "execution_count": null,
   "metadata": {},
   "outputs": [],
   "source": [
    "def show_columns(dataset):\n",
    "    print(dataset.columns.values.tolist())"
   ]
  },
  {
   "cell_type": "code",
   "execution_count": null,
   "metadata": {},
   "outputs": [],
   "source": [
    "show_columns(dataset)"
   ]
  },
  {
   "cell_type": "code",
   "execution_count": 63,
   "metadata": {},
   "outputs": [],
   "source": [
    "def show_column(dataset, column):\n",
    "    print(dataset[column].describe)"
   ]
  },
  {
   "cell_type": "code",
   "execution_count": null,
   "metadata": {},
   "outputs": [],
   "source": []
  },
  {
   "cell_type": "code",
   "execution_count": 64,
   "metadata": {},
   "outputs": [
    {
     "name": "stdout",
     "output_type": "stream",
     "text": [
      "<bound method NDFrame.describe of 0      3.5\n",
      "1      3.0\n",
      "2      3.2\n",
      "3      3.1\n",
      "4      3.6\n",
      "      ... \n",
      "145    3.0\n",
      "146    2.5\n",
      "147    3.0\n",
      "148    3.4\n",
      "149    3.0\n",
      "Name: 4, Length: 150, dtype: float64>\n",
      "Number of rows: 150\n"
     ]
    }
   ],
   "source": [
    "show_column(dataset, '4')"
   ]
  },
  {
   "cell_type": "code",
   "execution_count": null,
   "metadata": {},
   "outputs": [],
   "source": []
  },
  {
   "cell_type": "code",
   "execution_count": null,
   "metadata": {},
   "outputs": [],
   "source": []
  },
  {
   "cell_type": "code",
   "execution_count": null,
   "metadata": {},
   "outputs": [],
   "source": []
  },
  {
   "cell_type": "code",
   "execution_count": null,
   "metadata": {},
   "outputs": [],
   "source": []
  },
  {
   "cell_type": "code",
   "execution_count": null,
   "metadata": {},
   "outputs": [],
   "source": []
  },
  {
   "cell_type": "code",
   "execution_count": null,
   "metadata": {},
   "outputs": [],
   "source": []
  },
  {
   "cell_type": "code",
   "execution_count": null,
   "metadata": {},
   "outputs": [],
   "source": []
  },
  {
   "cell_type": "code",
   "execution_count": null,
   "metadata": {},
   "outputs": [],
   "source": []
  },
  {
   "cell_type": "markdown",
   "metadata": {},
   "source": [
    "# UI"
   ]
  },
  {
   "cell_type": "code",
   "execution_count": 28,
   "metadata": {},
   "outputs": [
    {
     "name": "stdout",
     "output_type": "stream",
     "text": [
      "Writing app.py\n"
     ]
    }
   ],
   "source": [
    "%%writefile app.py\n",
    "import streamlit as st\n",
    "import numpy as np\n",
    "\n",
    "def load_dataset(name):\n",
    "    try:\n",
    "        dataset = pd.read_csv('datasets/{}'.format(name))\n",
    "        return dataset\n",
    "    except Exception as err:\n",
    "        print(type(err))    \n",
    "        print(err.args)     \n",
    "        print(inst)\n",
    "        print(\"An exception occurred\")\n",
    "        return None\n",
    "    \n",
    "def dataset_head(dataset):\n",
    "    print('This shows the top 5 fields of a dataset')\n",
    "    return dataset.head()\n",
    "\n",
    "def dataset_tail(dataset):\n",
    "    print('This shows the bottom 5 fields of a dataset')\n",
    "    return dataset.tail()\n",
    "\n",
    "def dataset_shape(dataset):\n",
    "    print('This shows the dimensions of a dataset')\n",
    "    return dataset.shape\n",
    "\n",
    "def dataset_info(dataset):\n",
    "    print('This shows the datatypes and count of empty fields for each column of a dataset')\n",
    "    return dataset.info()\n",
    "\n",
    "def dataset_stats(dataset):\n",
    "    print('This shows the basic statistics of numerical columns/feature of a dataset')\n",
    "    return dataset.describe()\n",
    "    \n",
    "def understand_dataset(dataset):\n",
    "    st.write(dataset_head(dataset))\n",
    "    st.write(dataset_tail(dataset))\n",
    "    st.write(dataset_shape(dataset))\n",
    "    st.write(dataset_info(dataset))\n",
    "    st.write(dataset_stats(dataset))\n",
    "\n",
    "st.title(\"Trying out Streamlit\")\n",
    "\n",
    "st.write(\"Choose between the available datasets\")\n",
    "\n",
    "if st.button(\"Iris\"):\n",
    "    dataset = load_dataset('iris.csv')\n",
    "    \n",
    "elif st.button('Boston House Prices'):\n",
    "    dataset = load_dataset('boston_house_prices.csv')\n",
    "    \n",
    "understand_dataset(dataset)\n",
    "\n",
    "\n",
    "    \n",
    "\n",
    "if __name__=='__main__':\n",
    "    main()\n"
   ]
  },
  {
   "cell_type": "code",
   "execution_count": null,
   "metadata": {},
   "outputs": [],
   "source": []
  }
 ],
 "metadata": {
  "kernelspec": {
   "display_name": "Python 3",
   "language": "python",
   "name": "python3"
  },
  "language_info": {
   "codemirror_mode": {
    "name": "ipython",
    "version": 3
   },
   "file_extension": ".py",
   "mimetype": "text/x-python",
   "name": "python",
   "nbconvert_exporter": "python",
   "pygments_lexer": "ipython3",
   "version": "3.8.5"
  }
 },
 "nbformat": 4,
 "nbformat_minor": 4
}
